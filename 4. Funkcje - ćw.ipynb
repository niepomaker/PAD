{
  "metadata": {
    "kernelspec": {
      "name": "python",
      "display_name": "Python (Pyodide)",
      "language": "python"
    },
    "language_info": {
      "codemirror_mode": {
        "name": "python",
        "version": 3
      },
      "file_extension": ".py",
      "mimetype": "text/x-python",
      "name": "python",
      "nbconvert_exporter": "python",
      "pygments_lexer": "ipython3",
      "version": "3.8"
    }
  },
  "nbformat_minor": 4,
  "nbformat": 4,
  "cells": [
    {
      "cell_type": "markdown",
      "source": "# Funkcje",
      "metadata": {}
    },
    {
      "cell_type": "markdown",
      "source": "## Definiowanie Fukncji",
      "metadata": {}
    },
    {
      "cell_type": "markdown",
      "source": "- Widzieliśmy już pętle for jako sposób na przestrzeganie zasady DRY (Don't Repeat Yourself).\n- Następnym ważnym krokiem są funkcje.\n- Funkcje umożliwiają zaprogramowanie bloku kodu, który działa tylko po wywołaniu.\n- Oznacza to, że możemy uniknąć konieczności ponownego definiowania tych samych operacji, gdy wykonujemy je wielokrotnie.\n<br><br>\n- Funkcja przyjmuje parametry i zwraca dane wyjściowe.\n- Wartość przekazana jako parametr nazywana jest argumentem.\n- Funkcja powiązana z obiektem nazywana jest metodą.\n- Instancja funkcji nazywana jest wywołaniem funkcji.\n- Podstawowa składnia funkcji jest następująca:",
      "metadata": {}
    },
    {
      "cell_type": "code",
      "source": "# function definition\ndef function_name (param1, param2 = 1):\n    '''\n    DOCSTRING: explains function\n    INPUT: Name (str)\n    OUTPUT: Hello Name (str)\n    '''\n    # add code to run\n    return(\"Hello \" + param1)",
      "metadata": {},
      "execution_count": null,
      "outputs": []
    },
    {
      "cell_type": "code",
      "source": "# function call\nfunction_name(\"Zain\")",
      "metadata": {},
      "execution_count": null,
      "outputs": []
    },
    {
      "cell_type": "code",
      "source": "function_name",
      "metadata": {},
      "execution_count": null,
      "outputs": []
    },
    {
      "cell_type": "markdown",
      "source": "- Słowo kluczowe __def__ pokazuje pythona, którego zamierzasz zdefiniować.\n- __Nazwa funkcji__ jest następna, nazwij wszystkie małe litery, oddzielone podkreśleniami, nie używaj wbudowanych słów kluczowych: zobacz PEP8 po szczegóły.\n- __Parametry__ zdefiniowane w nawiasach.\n- __Argumenty domyślne__ to argumenty, które mają wartość domyślną do przywrócenia, jeśli nie określono innej wartości. W tym przypadku param2 = 1 oznacza, że ​​param2 będzie wynosić 1, chyba że zostanie określone jako coś innego w wywołaniu funkcji.\n- __Dwukropek__ oznacza koniec linii definicji, następny wiersz będzie wcięty.\n- __Docstrings__ wyjaśnij, co robi funkcja: przeczytaj PEP257 lub google __*'python docstrings'*__, aby uzyskać wskazówki.\n- https://www.python.org/dev/peps/pep-0257/\n- Słowo kluczowe __return__ wskazuje wyjście funkcji.\n<br><br>\n- Wykonując wywołanie funkcji, piszemy nazwę funkcji, a po niej nawiasy zawierające argumenty do przekazania.\n- __POWOLNY BŁĄD: jeśli wywołasz funkcję bez nawiasów, nie będzie działać!!!__\n- Po prostu pokaże informacje o funkcji, w tym moduł, do którego należy, jej nazwę i parametry, które przyjmuje.",
      "metadata": {}
    },
    {
      "cell_type": "markdown",
      "source": "## help()",
      "metadata": {}
    },
    {
      "cell_type": "markdown",
      "source": "- Możemy użyć funkcji help(), aby znaleźć dokumentację, jeśli nie wiemy, co robi funkcja.\n- Lub naciśnij Shift + Tab.\n- Aby uzyskać bardziej szczegółową dokumentację, lepiej znaleźć i wykorzystać pełną dokumentację funkcji (google it!).",
      "metadata": {}
    },
    {
      "cell_type": "code",
      "source": "help(function_name)",
      "metadata": {},
      "execution_count": null,
      "outputs": []
    },
    {
      "cell_type": "code",
      "source": "help(print)",
      "metadata": {},
      "execution_count": null,
      "outputs": []
    },
    {
      "cell_type": "markdown",
      "source": "## Zakres zmiennej",
      "metadata": {}
    },
    {
      "cell_type": "markdown",
      "source": "- Zakres zmiennej odnosi się do części programu, które mogą odwoływać się do zmiennej.\n- Istnieją 2 rodzaje zasięgu: lokalny i globalny.\n— Do zmiennej zdefiniowanej wewnątrz funkcji można się odwoływać tylko wewnątrz tej funkcji: zakres lokalny.\n— Do zmiennej zdefiniowanej poza funkcją (w ogólnym skrypcie) można się odwoływać wewnątrz funkcji, ale nie można jej modyfikować wewnątrz funkcji (UnboundLocalError).\n- Aby zmienić go w funkcji, należy go ponownie zdefiniować w funkcji.",
      "metadata": {}
    },
    {
      "cell_type": "code",
      "source": "counter = 0\n\ndef add_to_counter():\n    counter += 12 # add 12 to counter\n\nadd_to_counter()",
      "metadata": {},
      "execution_count": null,
      "outputs": []
    },
    {
      "cell_type": "code",
      "source": "counter = 0\n\ndef add_to_counter(count):\n    return count + 12  # add 12 to counter\n\ncounter = add_to_counter(counter)\n\nprint(counter)",
      "metadata": {},
      "execution_count": null,
      "outputs": []
    },
    {
      "cell_type": "markdown",
      "source": "## Ćwiczenie 1",
      "metadata": {}
    },
    {
      "cell_type": "markdown",
      "source": "Napisz funkcję o nazwie check_range, która sprawdza, czy liczba znajduje się w podanym zakresie (zawiera zarówno niski *__i__* wysoki). <br>\nJeśli tak, zwróć „x jest między y a z”. <br>\nJeśli tak nie jest, zwróć „x NIE jest między y a z”. <br>\nGdzie:\n- x to liczba\n- y jest dolną granicą\n- z to górna granica",
      "metadata": {}
    },
    {
      "cell_type": "code",
      "source": "# CODE HERE\ndef check_range(x, y , z):\n    if(x >= y and x <= z): print(\"{} jest między {} a {}.\".format(x, y, z))\n    else: print(\"{} NIE jes między {} a {}.\".format(x, y, z))",
      "metadata": {
        "trusted": true
      },
      "execution_count": 4,
      "outputs": []
    },
    {
      "cell_type": "code",
      "source": "check_range(34, 2, 228)",
      "metadata": {
        "trusted": true
      },
      "execution_count": 5,
      "outputs": [
        {
          "name": "stdout",
          "text": "34 jest między 2 a 228.\n",
          "output_type": "stream"
        }
      ]
    },
    {
      "cell_type": "code",
      "source": "check_range(7, 2, 5)",
      "metadata": {
        "trusted": true
      },
      "execution_count": 6,
      "outputs": [
        {
          "name": "stdout",
          "text": "7 NIE jes między 2 a 5.\n",
          "output_type": "stream"
        }
      ]
    },
    {
      "cell_type": "markdown",
      "source": "Napisz funkcję o nazwie bool_range, która robi to samo, ale zwraca tylko wartość logiczną.",
      "metadata": {}
    },
    {
      "cell_type": "code",
      "source": "# CODE HERE\ndef bool_range(x, y , z):\n    if(x >= y and x <= z): return True\n    else: return False",
      "metadata": {},
      "execution_count": 18,
      "outputs": []
    },
    {
      "cell_type": "code",
      "source": "bool_range(7, 5, 20)",
      "metadata": {},
      "execution_count": 19,
      "outputs": [
        {
          "execution_count": 19,
          "output_type": "execute_result",
          "data": {
            "text/plain": [
              "True"
            ]
          },
          "metadata": {}
        }
      ]
    },
    {
      "cell_type": "code",
      "source": "bool_range(67, 22, 25)",
      "metadata": {},
      "execution_count": 20,
      "outputs": [
        {
          "execution_count": 20,
          "output_type": "execute_result",
          "data": {
            "text/plain": [
              "False"
            ]
          },
          "metadata": {}
        }
      ]
    },
    {
      "cell_type": "markdown",
      "source": "## Ćwiczenie 2",
      "metadata": {}
    },
    {
      "cell_type": "markdown",
      "source": "Napisz funkcję o nazwie unique_list, która pobiera listę i zwraca listę zawierającą tylko unikalne elementy danych wejściowych.",
      "metadata": {}
    },
    {
      "cell_type": "code",
      "source": "# CODE HERE\ndef unique_list(list):\n    new_list = []\n    for element in list:\n        if element not in new_list:\n            new_list.append(element)\n    return new_list",
      "metadata": {},
      "execution_count": 10,
      "outputs": []
    },
    {
      "cell_type": "code",
      "source": "my_list = [1,3,5,6,4,3,2,3,3,4,3,4,5,6,6,4,3,2,12,3,5,63,4,5,3,3,2]\n\nunique_list(my_list)",
      "metadata": {},
      "execution_count": 11,
      "outputs": [
        {
          "execution_count": 11,
          "output_type": "execute_result",
          "data": {
            "text/plain": [
              "[1, 3, 5, 6, 4, 2, 12, 63]"
            ]
          },
          "metadata": {}
        }
      ]
    },
    {
      "cell_type": "markdown",
      "source": "Znajdź inny sposób wykonania tej samej operacji bez definiowania funkcji.",
      "metadata": {}
    },
    {
      "cell_type": "code",
      "source": "# CODE HERE\nprint(set(my_list))",
      "metadata": {},
      "execution_count": 14,
      "outputs": [
        {
          "name": "stdout",
          "output_type": "stream",
          "text": "{1, 2, 3, 4, 5, 6, 12, 63}\n"
        }
      ]
    },
    {
      "cell_type": "markdown",
      "source": "## Ćwiczenie 3",
      "metadata": {}
    },
    {
      "cell_type": "markdown",
      "source": "Napisz funkcję o nazwie objętość_kuli, która przyjmuje promień kuli i zwraca jej objętość zaokrągloną do 2 dp. (Google wzór na objętość kuli, użyj pi = 3,14)",
      "metadata": {}
    },
    {
      "cell_type": "code",
      "source": "from math import pi\n\n# CODE HERE\ndef volume_of_sphere(r):\n    return round(4/3 * pi * r*r*r, 2)",
      "metadata": {
        "trusted": true
      },
      "execution_count": 7,
      "outputs": []
    },
    {
      "cell_type": "code",
      "source": "volume_of_sphere(6)",
      "metadata": {
        "tags": [],
        "trusted": true
      },
      "execution_count": 9,
      "outputs": [
        {
          "execution_count": 9,
          "output_type": "execute_result",
          "data": {
            "text/plain": "904.78"
          },
          "metadata": {}
        }
      ]
    },
    {
      "cell_type": "code",
      "source": "",
      "metadata": {},
      "execution_count": null,
      "outputs": []
    },
    {
      "cell_type": "markdown",
      "source": "## Rekurencja",
      "metadata": {}
    },
    {
      "cell_type": "markdown",
      "source": "- Funkcja rekurencyjna to funkcja, która wywołuje siebie w ramach swojej definicji.\n- Na początku może to być trudne do zrozumienia, ale pomyśl o tym jako o przełamaniu dużego problemu w wielokrotne robienie małego problemu.\n- Oznacza to, że złożony problem można uprościć, powtarzając przy każdym powtórzeniu prostszą i prostszą formę tego samego problemu.\n- Musimy jednak podać „najprostszą formę” funkcji, w której funkcja się zatrzymuje, w przeciwnym razie będzie się powtarzać w nieskończoność i wygeneruje błąd.\n- Nazywamy tę „najprostszą formę” przypadkiem podstawowym.\n- Najlepiej ilustruje to przykład:",
      "metadata": {}
    },
    {
      "cell_type": "code",
      "source": "# Funkcja, która przyjmuje jako wejście liczbę początkową do odliczania\ndef countdown(n):\n    \n    # przypadek podstawowy: w tym miejscu funkcja ostatecznie się zatrzyma\n    if n == 0:\n        print(0)\n        \n    # tutaj redukujemy problem do prostszej wersji\n    else:\n        \n        #wypisujemy numer odliczania\n        print(n)\n        \n        # powtarzamy funkcję z następną najmniejszą liczbą\n        countdown(n-1)\n        \n\ncountdown(5)",
      "metadata": {},
      "execution_count": null,
      "outputs": []
    },
    {
      "cell_type": "code",
      "source": "",
      "metadata": {},
      "execution_count": null,
      "outputs": []
    },
    {
      "cell_type": "markdown",
      "source": "## Ćwiczenie 4",
      "metadata": {}
    },
    {
      "cell_type": "markdown",
      "source": "Zdefiniuj funkcję rekurencyjną o nazwie num_fact, która zwraca silnię podanej liczby.",
      "metadata": {}
    },
    {
      "cell_type": "code",
      "source": "# CODE HERE\ndef num_fact(n):\n    if n < 2:\n        return 1\n    else: \n        return n * num_fact(n - 1)\n    ",
      "metadata": {
        "trusted": true
      },
      "execution_count": 11,
      "outputs": []
    },
    {
      "cell_type": "code",
      "source": "num_fact(5)",
      "metadata": {
        "trusted": true
      },
      "execution_count": 13,
      "outputs": [
        {
          "execution_count": 13,
          "output_type": "execute_result",
          "data": {
            "text/plain": "120"
          },
          "metadata": {}
        }
      ]
    },
    {
      "cell_type": "code",
      "source": "",
      "metadata": {},
      "execution_count": null,
      "outputs": []
    },
    {
      "cell_type": "markdown",
      "source": "## Dalsza lektura\n- Python Function Definitions: https://docs.python.org/3/reference/compound_stmts.html#function-definitions\n- Python Docstring Conventions: https://www.python.org/dev/peps/pep-0257/",
      "metadata": {}
    },
    {
      "cell_type": "code",
      "source": "",
      "metadata": {},
      "execution_count": null,
      "outputs": []
    }
  ]
}